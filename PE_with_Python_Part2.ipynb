{
  "nbformat": 4,
  "nbformat_minor": 0,
  "metadata": {
    "colab": {
      "provenance": [],
      "authorship_tag": "ABX9TyN3xPlWchTyV4k1ooZLD+q/",
      "include_colab_link": true
    },
    "kernelspec": {
      "name": "python3",
      "display_name": "Python 3"
    },
    "language_info": {
      "name": "python"
    }
  },
  "cells": [
    {
      "cell_type": "markdown",
      "metadata": {
        "id": "view-in-github",
        "colab_type": "text"
      },
      "source": [
        "<a href=\"https://colab.research.google.com/github/edisonc57/PE-with-Python/blob/main/PE_with_Python_Part2.ipynb\" target=\"_parent\"><img src=\"https://colab.research.google.com/assets/colab-badge.svg\" alt=\"Open In Colab\"/></a>"
      ]
    },
    {
      "cell_type": "markdown",
      "source": [
        "#Water Influx Models"
      ],
      "metadata": {
        "id": "xmJ5HYsfNxXl"
      }
    },
    {
      "cell_type": "markdown",
      "source": [
        "$$\n",
        "\\frac {d^2 h} {dr^2} + \\frac {1} {r} \\frac {dh} {dr} - \\frac {1} {c_w} \\frac {dh} {dt} = 0\n",
        "$$\n",
        "\n",
        "The solution to this differential equation is:\n",
        "\n",
        "$$\n",
        "h = 0.183 j_o ({\\alpha}) - 0.348 j_1 ({\\alpha})  + 0.161 j_2 ({\\alpha})  - 0.0649 j_3 ({\\alpha}) + 0.0193 j_4 ({\\alpha})\n",
        "$$\n",
        "\n",
        "Where $$ j_n ({\\alpha})  $$ represents the  nth  order Bessel function.\n",
        "\n",
        "$$\n",
        "\\alpha = \\frac {r} {2 \\sqrt{c_w t} }\n",
        "$$"
      ],
      "metadata": {
        "id": "X9JIkCpON0pC"
      }
    },
    {
      "cell_type": "code",
      "source": [
        "import scipy.special as sp\n",
        "import numpy as np\n",
        "\n",
        "def calculate_water_influx(r, cw, t):\n",
        "  alpha = r / (2 * np.sqrt(cw * t))\n",
        "\n",
        "  h= 0.183 * sp.j0(alpha) - 0.3498 * sp.j1(alpha)+ 0.161 * sp.jn(2,alpha) + 0.0649 * sp.jn(3,alpha) + 0.019316 * sp.jn(4,alpha)\n",
        "\n",
        "  return h\n",
        "\n",
        "calculate_water_influx(10, 1, 1)\n",
        ""
      ],
      "metadata": {
        "colab": {
          "base_uri": "https://localhost:8080/"
        },
        "id": "LhqD3nHrXu5I",
        "outputId": "ff33b62a-b530-420e-e4ad-53662b5f26b2"
      },
      "execution_count": 24,
      "outputs": [
        {
          "output_type": "execute_result",
          "data": {
            "text/plain": [
              "0.120818548041135"
            ]
          },
          "metadata": {},
          "execution_count": 24
        }
      ]
    },
    {
      "cell_type": "markdown",
      "source": [
        "# Vogel's Inflow Performance Relationship"
      ],
      "metadata": {
        "id": "2BHU1Z5332UW"
      }
    },
    {
      "cell_type": "markdown",
      "source": [
        "Assuming:\n",
        "- Steady flow\n",
        "- Neglecting the wellbore storage effect\n",
        "\n",
        "Pressure drop:\n",
        "$$\n",
        "\\Delta P = P_{wf} - P_{res}\n",
        "$$\n",
        "\n",
        "Vogel's IPR :  \n",
        "\n",
        "$$\n",
        "q = \\frac {1} {C} . (\\frac { P_{res} - P_{wf}} {\\mu_o \\beta_o}) ^ \\frac {1} {n}\n",
        "$$\n",
        "\n",
        "Well productivity index C:\n",
        "\n",
        "$$\n",
        "C = \\frac {\\sqrt {k.h}} {Ln(\\frac {r_e} {r_w})}\n",
        "$$\n",
        "\n",
        "\n"
      ],
      "metadata": {
        "id": "znhvAR7e362d"
      }
    },
    {
      "cell_type": "code",
      "source": [
        "import math\n",
        "\n",
        "def calculate_ipr(q, mu, Bo, C, Pres, Pwf):\n",
        ""
      ],
      "metadata": {
        "id": "GdJUwbcU_1zq"
      },
      "execution_count": null,
      "outputs": []
    }
  ]
}