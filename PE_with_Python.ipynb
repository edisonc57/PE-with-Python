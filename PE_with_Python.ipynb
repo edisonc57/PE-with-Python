{
  "nbformat": 4,
  "nbformat_minor": 0,
  "metadata": {
    "colab": {
      "provenance": [],
      "authorship_tag": "ABX9TyPYRZqxXI5TY+hLCi1sGtPM",
      "include_colab_link": true
    },
    "kernelspec": {
      "name": "python3",
      "display_name": "Python 3"
    },
    "language_info": {
      "name": "python"
    }
  },
  "cells": [
    {
      "cell_type": "markdown",
      "metadata": {
        "id": "view-in-github",
        "colab_type": "text"
      },
      "source": [
        "<a href=\"https://colab.research.google.com/github/edisonc57/PE-with-Python/blob/main/PE_with_Python.ipynb\" target=\"_parent\"><img src=\"https://colab.research.google.com/assets/colab-badge.svg\" alt=\"Open In Colab\"/></a>"
      ]
    },
    {
      "cell_type": "markdown",
      "source": [
        "#Material Balance Equation"
      ],
      "metadata": {
        "id": "cxGgvR5ARSH_"
      }
    },
    {
      "cell_type": "markdown",
      "source": [
        "*For a single-phase:*\n",
        "\n",
        "$$\n",
        "N= N_o - \\Delta N + G - \\phi B \\Delta p\n",
        "$$"
      ],
      "metadata": {
        "id": "YlBdp0yhbA7M"
      }
    },
    {
      "cell_type": "code",
      "execution_count": null,
      "metadata": {
        "colab": {
          "base_uri": "https://localhost:8080/"
        },
        "id": "t43y8fUEUg8-",
        "outputId": "e4154deb-5f55-4404-b294-a4725326391c"
      },
      "outputs": [
        {
          "output_type": "execute_result",
          "data": {
            "text/plain": [
              "1049950.0"
            ]
          },
          "metadata": {},
          "execution_count": 6
        }
      ],
      "source": [
        "def remaining_reserves(N, No, delta_N, G, phi, B, delta_P):\n",
        "    remaining_volume = No - delta_N + G - phi * B * delta_P\n",
        "    return remaining_volume\n",
        "\n",
        "N = 1000000        # Reservas iniciales en barriles\n",
        "No = 1200000       # Reservas originales estimadas en barriles\n",
        "delta_N = 200000   # Reducción debido a la extracción en barriles\n",
        "G = 50000          # Aumento de reservas debido a nuevos descubrimientos en barriles\n",
        "phi = 0.1          # Factor de reducción por pérdida o ineficiencia\n",
        "B = 10000          # Tasa de producción en barriles por día\n",
        "delta_P = 0.05     # Cambio en la presión del yacimiento\n",
        "\n",
        "remaining_reserves(N, No, delta_N, G, phi, B, delta_P)\n",
        "\n"
      ]
    },
    {
      "cell_type": "markdown",
      "source": [
        "*For a two-phase:*\n",
        "\n",
        "$$\n",
        "N= N_o - \\Delta N + E - D  - \\phi (B_o \\Delta P_o + B_g \\Delta P_g )\n",
        "$$"
      ],
      "metadata": {
        "id": "JFTKiiMibKQ0"
      }
    },
    {
      "cell_type": "code",
      "source": [
        "def two_phases_remaining_reserves(N, No, delta_N, E, D, phi, Bo, Bg,  delta_Po, delta_Pg):\n",
        "    remaining_volume = No - delta_N + E - D - phi * (Bo * delta_Po + Bg * delta_Pg)\n",
        "    return remaining_volume\n",
        "\n",
        "N = 1000       # Número total de reservas estimadas inicialmente\n",
        "No = 500       # Volumen inicial de reservas antes de la extracción\n",
        "delta_N = 50   # Cambio en el volumen de reservas debido a la producción de petróleo\n",
        "E = 200        # Volumen de inyección de fluidos (agua, gas, etc.) en el reservorio\n",
        "D = 150        # Volumen de fluidos extraídos del reservorio\n",
        "phi = 0.1      # Porosidad efectiva del reservorio\n",
        "Bo = 1.2       # Factor volumétrico de formación del petróleo\n",
        "Bg = 0.8       # Factor volumétrico de formación del gas\n",
        "delta_Po = 0.05 # Cambio en la presión del reservorio de petróleo\n",
        "delta_Pg = 0.03 # Cambio en la presión del reservorio de gas\n",
        "\n",
        "two_phases_remaining_reserves (N, No, delta_N, E, D, phi, Bo, Bg,  delta_Po, delta_Pg)"
      ],
      "metadata": {
        "colab": {
          "base_uri": "https://localhost:8080/"
        },
        "id": "Pb92H0oqbZ9N",
        "outputId": "8e1e0763-c42c-4165-a35c-314da8217ddb"
      },
      "execution_count": null,
      "outputs": [
        {
          "output_type": "execute_result",
          "data": {
            "text/plain": [
              "499.9916"
            ]
          },
          "metadata": {},
          "execution_count": 2
        }
      ]
    },
    {
      "cell_type": "markdown",
      "source": [
        "# Darcy´s Law for fluid flow"
      ],
      "metadata": {
        "id": "Ezp1HSrOhcgV"
      }
    },
    {
      "cell_type": "markdown",
      "source": [
        "Linear flow:\n",
        "$$\n",
        "q= -k \\frac{A \\Delta P}{\\mu L}\n",
        "$$"
      ],
      "metadata": {
        "id": "NjxxjclvjhlW"
      }
    },
    {
      "cell_type": "code",
      "source": [
        "def linear_flow(k, A, delta_P, mu, L):\n",
        "    q = -k * A * delta_P / (mu * L)\n",
        "    return q\n",
        "\n",
        "# Ejemplo de valores\n",
        "k = 1e-12        # Permeabilidad en m²\n",
        "A = 0.01         # Área en m²\n",
        "delta_P = 10000  # Diferencia de presión en Pa\n",
        "mu = 0.001       # Viscosidad en Pa·s\n",
        "L = 1.0          # Longitud en m\n",
        "\n",
        "linear_flow(k, A, delta_P, mu, L)"
      ],
      "metadata": {
        "id": "SlnYPMoCdrz6",
        "colab": {
          "base_uri": "https://localhost:8080/"
        },
        "outputId": "0ef7cc51-0049-47b8-aa51-d7cadf69a074"
      },
      "execution_count": 14,
      "outputs": [
        {
          "output_type": "execute_result",
          "data": {
            "text/plain": [
              "-1e-07"
            ]
          },
          "metadata": {},
          "execution_count": 14
        }
      ]
    },
    {
      "cell_type": "markdown",
      "source": [
        "Radial flow:\n",
        "\n",
        "$$\n",
        "q= -2 \\pi kh \\frac{\\Delta P} {\\mu} (\\frac{r_1 r_2} {ln(\\frac {r_2}{r_1})})\n",
        "$$"
      ],
      "metadata": {
        "id": "txcrM8JPl2le"
      }
    },
    {
      "cell_type": "code",
      "source": [
        "import math\n",
        "def radial_flow(k, h, delta_P, mu, r1, r2):\n",
        "    q = -2 * math.pi * k * h * delta_P * r1 * r2  / (mu * math.log(r2/r1))\n",
        "    return q\n",
        "\n",
        "k = 1e-12        # Permeabilidad en m²\n",
        "h = 50           # Espesor en m\n",
        "delta_P = 5000   # Diferencia de presión en Pa\n",
        "mu = 0.001       # Viscosidad en Pa·s\n",
        "r1 = 0.1         # Radio del pozo en m\n",
        "r2 = 100         # Radio de influencia en m\n",
        "\n",
        "radial_flow(k, h, delta_P, mu, r1, r2)"
      ],
      "metadata": {
        "id": "c3fAD7ILnjgz",
        "colab": {
          "base_uri": "https://localhost:8080/"
        },
        "outputId": "a7a63862-3952-43c4-e8d3-a14e698c6d7a"
      },
      "execution_count": 15,
      "outputs": [
        {
          "output_type": "execute_result",
          "data": {
            "text/plain": [
              "-0.0022739605897364027"
            ]
          },
          "metadata": {},
          "execution_count": 15
        }
      ]
    },
    {
      "cell_type": "markdown",
      "source": [
        "#Volumetric Calculations"
      ],
      "metadata": {
        "id": "pJEdLErSvcG1"
      }
    },
    {
      "cell_type": "markdown",
      "source": [
        "$$\n",
        "N_o = N_i + \\frac {A h (1 - S_w)} {\\phi B_o}. (\\Delta P)\n",
        "$$"
      ],
      "metadata": {
        "id": "ARxgye_TvuW9"
      }
    },
    {
      "cell_type": "code",
      "source": [
        "def calculate_original_in_place(No, Ni, A, h, Sw, delta_p, phi, Bo):\n",
        "    Ni = 0\n",
        "    No = (A * h * (1 - Sw) * delta_p) / (phi * Bo)\n",
        "    return No\n"
      ],
      "metadata": {
        "id": "Do3A8Ke_w6D-"
      },
      "execution_count": 17,
      "outputs": []
    }
  ]
}