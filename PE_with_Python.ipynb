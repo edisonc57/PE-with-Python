{
  "nbformat": 4,
  "nbformat_minor": 0,
  "metadata": {
    "colab": {
      "provenance": [],
      "authorship_tag": "ABX9TyN8vMQAFPVeSUaxJtcDQD0T",
      "include_colab_link": true
    },
    "kernelspec": {
      "name": "python3",
      "display_name": "Python 3"
    },
    "language_info": {
      "name": "python"
    }
  },
  "cells": [
    {
      "cell_type": "markdown",
      "metadata": {
        "id": "view-in-github",
        "colab_type": "text"
      },
      "source": [
        "<a href=\"https://colab.research.google.com/github/edisonc57/PE-with-Python/blob/main/PE_with_Python.ipynb\" target=\"_parent\"><img src=\"https://colab.research.google.com/assets/colab-badge.svg\" alt=\"Open In Colab\"/></a>"
      ]
    },
    {
      "cell_type": "markdown",
      "source": [
        "#Material Balance Equation"
      ],
      "metadata": {
        "id": "cxGgvR5ARSH_"
      }
    },
    {
      "cell_type": "markdown",
      "source": [
        "*For a single-phase:*\n",
        "\n",
        "$$\n",
        "N= N_o - \\Delta N + G - \\phi B \\Delta p\n",
        "$$"
      ],
      "metadata": {
        "id": "YlBdp0yhbA7M"
      }
    },
    {
      "cell_type": "code",
      "execution_count": null,
      "metadata": {
        "colab": {
          "base_uri": "https://localhost:8080/"
        },
        "id": "t43y8fUEUg8-",
        "outputId": "e4154deb-5f55-4404-b294-a4725326391c"
      },
      "outputs": [
        {
          "output_type": "execute_result",
          "data": {
            "text/plain": [
              "1049950.0"
            ]
          },
          "metadata": {},
          "execution_count": 6
        }
      ],
      "source": [
        "def remaining_reserves(N, No, delta_N, G, phi, B, delta_P):\n",
        "    remaining_volume = No - delta_N + G - phi * B * delta_P\n",
        "    return remaining_volume\n",
        "\n",
        "N = 1000000        # Reservas iniciales en barriles\n",
        "No = 1200000       # Reservas originales estimadas en barriles\n",
        "delta_N = 200000   # Reducción debido a la extracción en barriles\n",
        "G = 50000          # Aumento de reservas debido a nuevos descubrimientos en barriles\n",
        "phi = 0.1          # Factor de reducción por pérdida o ineficiencia\n",
        "B = 10000          # Tasa de producción en barriles por día\n",
        "delta_P = 0.05     # Cambio en la presión del yacimiento\n",
        "\n",
        "remaining_reserves(N, No, delta_N, G, phi, B, delta_P)\n",
        "\n"
      ]
    },
    {
      "cell_type": "markdown",
      "source": [
        "*For a two-phase:*\n",
        "\n",
        "$$\n",
        "N= N_o - \\Delta N + E - D  - \\phi (B_o \\Delta P_o + B_g \\Delta P_g )\n",
        "$$"
      ],
      "metadata": {
        "id": "JFTKiiMibKQ0"
      }
    },
    {
      "cell_type": "code",
      "source": [
        "def two_phases_remaining_reserves(N, No, delta_N, E, D, phi, Bo, Bg,  delta_Po, delta_Pg):\n",
        "    remaining_volume = No - delta_N + E - D - phi * (Bo * delta_Po + Bg * delta_Pg)\n",
        "    return remaining_volume\n",
        "\n",
        "N = 1000       # Número total de reservas estimadas inicialmente\n",
        "No = 500       # Volumen inicial de reservas antes de la extracción\n",
        "delta_N = 50   # Cambio en el volumen de reservas debido a la producción de petróleo\n",
        "E = 200        # Volumen de inyección de fluidos (agua, gas, etc.) en el reservorio\n",
        "D = 150        # Volumen de fluidos extraídos del reservorio\n",
        "phi = 0.1      # Porosidad efectiva del reservorio\n",
        "Bo = 1.2       # Factor volumétrico de formación del petróleo\n",
        "Bg = 0.8       # Factor volumétrico de formación del gas\n",
        "delta_Po = 0.05 # Cambio en la presión del reservorio de petróleo\n",
        "delta_Pg = 0.03 # Cambio en la presión del reservorio de gas\n",
        "\n",
        "two_phases_remaining_reserves (N, No, delta_N, E, D, phi, Bo, Bg,  delta_Po, delta_Pg)"
      ],
      "metadata": {
        "colab": {
          "base_uri": "https://localhost:8080/"
        },
        "id": "Pb92H0oqbZ9N",
        "outputId": "8e1e0763-c42c-4165-a35c-314da8217ddb"
      },
      "execution_count": null,
      "outputs": [
        {
          "output_type": "execute_result",
          "data": {
            "text/plain": [
              "499.9916"
            ]
          },
          "metadata": {},
          "execution_count": 2
        }
      ]
    },
    {
      "cell_type": "markdown",
      "source": [
        "# Darcy´s Law for fluid flow"
      ],
      "metadata": {
        "id": "Ezp1HSrOhcgV"
      }
    },
    {
      "cell_type": "markdown",
      "source": [
        "Linear flow:\n",
        "$$\n",
        "q= -k \\frac{A \\Delta P}{\\mu L}\n",
        "$$"
      ],
      "metadata": {
        "id": "NjxxjclvjhlW"
      }
    },
    {
      "cell_type": "code",
      "source": [
        "def linear_flow(k, A, delta_P, mu, L):\n",
        "    q = -k * A * delta_P / (mu * L)\n",
        "    return q\n",
        "\n",
        "# Ejemplo de valores\n",
        "k = 1e-12        # Permeabilidad en m²\n",
        "A = 0.01         # Área en m²\n",
        "delta_P = 10000  # Diferencia de presión en Pa\n",
        "mu = 0.001       # Viscosidad en Pa·s\n",
        "L = 1.0          # Longitud en m\n",
        "\n",
        "linear_flow(k, A, delta_P, mu, L)"
      ],
      "metadata": {
        "id": "SlnYPMoCdrz6",
        "colab": {
          "base_uri": "https://localhost:8080/"
        },
        "outputId": "0ef7cc51-0049-47b8-aa51-d7cadf69a074"
      },
      "execution_count": null,
      "outputs": [
        {
          "output_type": "execute_result",
          "data": {
            "text/plain": [
              "-1e-07"
            ]
          },
          "metadata": {},
          "execution_count": 14
        }
      ]
    },
    {
      "cell_type": "markdown",
      "source": [
        "Radial flow:\n",
        "\n",
        "$$\n",
        "q= -2 \\pi kh \\frac{\\Delta P} {\\mu} (\\frac{r_1 r_2} {ln(\\frac {r_2}{r_1})})\n",
        "$$"
      ],
      "metadata": {
        "id": "txcrM8JPl2le"
      }
    },
    {
      "cell_type": "code",
      "source": [
        "import math\n",
        "def radial_flow(k, h, delta_P, mu, r1, r2):\n",
        "    q = -2 * math.pi * k * h * delta_P * r1 * r2  / (mu * math.log(r2/r1))\n",
        "    return q\n",
        "\n",
        "k = 1e-12        # Permeabilidad en m²\n",
        "h = 50           # Espesor en m\n",
        "delta_P = 5000   # Diferencia de presión en Pa\n",
        "mu = 0.001       # Viscosidad en Pa·s\n",
        "r1 = 0.1         # Radio del pozo en m\n",
        "r2 = 100         # Radio de influencia en m\n",
        "\n",
        "radial_flow(k, h, delta_P, mu, r1, r2)"
      ],
      "metadata": {
        "id": "c3fAD7ILnjgz",
        "colab": {
          "base_uri": "https://localhost:8080/"
        },
        "outputId": "a7a63862-3952-43c4-e8d3-a14e698c6d7a"
      },
      "execution_count": null,
      "outputs": [
        {
          "output_type": "execute_result",
          "data": {
            "text/plain": [
              "-0.0022739605897364027"
            ]
          },
          "metadata": {},
          "execution_count": 15
        }
      ]
    },
    {
      "cell_type": "markdown",
      "source": [
        "#Volumetric Calculations"
      ],
      "metadata": {
        "id": "pJEdLErSvcG1"
      }
    },
    {
      "cell_type": "markdown",
      "source": [
        "$$\n",
        "N_o = N_i + \\frac {A h (1 - S_w)} {\\phi B_o}. (\\Delta P)\n",
        "$$"
      ],
      "metadata": {
        "id": "ARxgye_TvuW9"
      }
    },
    {
      "cell_type": "code",
      "source": [
        "def calculate_original_in_place(Ni, A, h, Sw, delta_p, phi, Bo):\n",
        "    No = (A * h * (1 - Sw) * delta_p) / (phi * Bo)\n",
        "    return No\n",
        "\n",
        "# Ejemplo de valores\n",
        "Ni= 100000  # Cantidad de petróleo inicial en bbl\n",
        "A = 640       # Área del yacimiento en acres\n",
        "h = 50        # Espesor del yacimiento en pies\n",
        "S_w = 0.2     # Saturación de agua (20%)\n",
        "phi = 0.25    # Porosidad del yacimiento (25%)\n",
        "Bo = 1.2     # Factor de volumen de formación del petróleo\n",
        "delta_P = 100 # Diferencia de presión en psi\n",
        "\n",
        "calculate_original_in_place(Ni, A, h, S_w, delta_P, phi, Bo)"
      ],
      "metadata": {
        "colab": {
          "base_uri": "https://localhost:8080/"
        },
        "id": "Do3A8Ke_w6D-",
        "outputId": "e8f9a86b-44ac-49fc-df78-7f9c1cfd0d2e"
      },
      "execution_count": null,
      "outputs": [
        {
          "output_type": "execute_result",
          "data": {
            "text/plain": [
              "8533333.333333334"
            ]
          },
          "metadata": {},
          "execution_count": 3
        }
      ]
    },
    {
      "cell_type": "markdown",
      "source": [
        "# PVT Calculations\n",
        "\n"
      ],
      "metadata": {
        "id": "EpbeGE8C_I7Q"
      }
    },
    {
      "cell_type": "markdown",
      "source": [
        "*Gas compressibility factor Z*\n",
        "\n",
        "$$\n",
        "P_{pr}= \\frac {P} {P_c}\n",
        "$$\n",
        "\n",
        "$$\n",
        "T_{pr}= \\frac {T + 460} {T_c}\n",
        "$$"
      ],
      "metadata": {
        "id": "F0PtHpAevz7G"
      }
    },
    {
      "cell_type": "code",
      "source": [
        "def calculate_gas_compressibility_factor(P, T, P_c, T_c):\n",
        "  P_pr = P/P_c\n",
        "  T_pr = T/T_c\n",
        "  Z= interpolate_z_from_chart(P_pr, T_pr)\n",
        "\n",
        "def interpolate_z_from_chart(P_pr, T_pr):\n",
        "    return Z"
      ],
      "metadata": {
        "id": "5lOnTE7oFGbK"
      },
      "execution_count": null,
      "outputs": []
    },
    {
      "cell_type": "markdown",
      "source": [
        "*Empirical Correlations: Hall-Yarborough*\n",
        "\n",
        "$$\n",
        "Z= A + \\frac {B} {P_r} + \\frac {C} {P_r^2} +\\frac {D} {P_r^3} +\\frac {E} {P_r^4}\n",
        "$$"
      ],
      "metadata": {
        "id": "3Bq-CbKj3ii7"
      }
    },
    {
      "cell_type": "code",
      "source": [
        "def calculate_Z_factor_hall_yarborough(Pr, Tr):\n",
        "  A = 0.06125/Tr * math.exp(-1.2*(1-Tr)**2)\n",
        "  B = 0.0658/Tr * math.exp(-3.5*(1-Tr)**2)\n",
        "  C = 3.537 *Pr/Tr * math.exp(-7.6 * (1-Tr)**2)\n",
        "  D = 0.027 * Pr/Tr * math.exp(-1.2 * (1-Tr)**2)\n",
        "  E = -1.45 * Pr/Tr * math.exp(-3* (1-Tr)**2)\n",
        "\n",
        "  Z= A + B/P_pr + C/P_pr**2 + D/P_pr**3 + E/P_pr**4\n",
        "\n",
        "  return Z"
      ],
      "metadata": {
        "id": "L71a4K8h5pfy"
      },
      "execution_count": 2,
      "outputs": []
    },
    {
      "cell_type": "markdown",
      "source": [
        "*Empirical Correlations: Hall-Yarborough*\n",
        "\n",
        "$$\n",
        "Z= Z_1 + (Z_2 - Z_1 -d(Z_3 - Z_2)) e^{- \\omega \\alpha^2}\n",
        "$$\n",
        "\n",
        "$$\n",
        "\\alpha = \\frac {\\kappa} {P_r}\n",
        "$$"
      ],
      "metadata": {
        "id": "LFC3gjbe3RgJ"
      }
    },
    {
      "cell_type": "code",
      "source": [
        "def calculate_Z_factor_DAK(Pr, Tr, omega):\n",
        "  Z1 = 0.3265 - 0.0701 /Tr- 0.011 / omega\n",
        "  Z2 = 0.27 * Pr / Tr\n",
        "  Z3 = 0.5475 - 0.7361 / Tr + 0.1844 / Tr **2\n",
        "  d =0.27 * Tr / Tr\n",
        "  kappa = 0.37464 + 1.54226 * omega - 0.26992 * omega **2\n",
        "\n",
        "  alpha= kappa/Pr\n",
        "  exponent_term = math.exp(omega * alpha**2)\n",
        "  Z= Z1 + (Z2 - Z1 -d*(Z3 - Z2)) * math.exp(-exponent_term)\n",
        "\n",
        "  return Z\n"
      ],
      "metadata": {
        "id": "2sKhQNJR-pkO"
      },
      "execution_count": 4,
      "outputs": []
    }
  ]
}